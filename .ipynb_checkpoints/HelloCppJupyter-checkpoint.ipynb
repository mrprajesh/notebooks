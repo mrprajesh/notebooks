{
 "cells": [
  {
   "cell_type": "markdown",
   "id": "f69ead9b",
   "metadata": {},
   "source": [
    "## How to write cpp code in Jupyter"
   ]
  },
  {
   "cell_type": "code",
   "execution_count": 3,
   "id": "12bc5a34",
   "metadata": {},
   "outputs": [
    {
     "name": "stdout",
     "output_type": "stream",
     "text": [
      "Hello Cpp! from Jupyter \n"
     ]
    },
    {
     "data": {
      "text/plain": [
       "@0x7fe55e1c8b60"
      ]
     },
     "execution_count": 3,
     "metadata": {},
     "output_type": "execute_result"
    }
   ],
   "source": [
    "#include <iostream>\n",
    "using std::cout; \n",
    "cout << \"Hello Cpp! from Jupyter \\n\";\n",
    " "
   ]
  },
  {
   "cell_type": "markdown",
   "id": "baa4d260",
   "metadata": {},
   "source": [
    "## How run code with functions?"
   ]
  },
  {
   "cell_type": "code",
   "execution_count": null,
   "id": "93b50ff0",
   "metadata": {},
   "outputs": [],
   "source": []
  }
 ],
 "metadata": {
  "kernelspec": {
   "display_name": "C++14",
   "language": "C++14",
   "name": "xcpp14"
  },
  "language_info": {
   "codemirror_mode": "text/x-c++src",
   "file_extension": ".cpp",
   "mimetype": "text/x-c++src",
   "name": "c++",
   "version": "14"
  }
 },
 "nbformat": 4,
 "nbformat_minor": 5
}
