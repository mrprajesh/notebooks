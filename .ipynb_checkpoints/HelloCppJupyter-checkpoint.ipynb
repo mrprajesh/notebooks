{
 "cells": [
  {
   "cell_type": "markdown",
   "id": "f69ead9b",
   "metadata": {},
   "source": [
    "## How to write cpp code in Jupyter"
   ]
  },
  {
   "cell_type": "markdown",
   "id": "a2f93870",
   "metadata": {
    "scrolled": false
   },
   "source": [
    "## Hello world"
   ]
  },
  {
   "cell_type": "code",
   "execution_count": 1,
   "id": "93b50ff0",
   "metadata": {},
   "outputs": [
    {
     "name": "stdout",
     "output_type": "stream",
     "text": [
      "Hello Cpp! from Jupyter \n"
     ]
    }
   ],
   "source": [
    "#include <iostream>\n",
    "using std::cout; \n",
    "cout << \"Hello Cpp! from Jupyter \\n\";"
   ]
  },
  {
   "cell_type": "markdown",
   "id": "baa4d260",
   "metadata": {},
   "source": [
    "## How run code with functions?"
   ]
  },
  {
   "cell_type": "code",
   "execution_count": 1,
   "id": "bdec757f",
   "metadata": {},
   "outputs": [],
   "source": [
    "double SqrNum(double a)\n",
    "{\n",
    "    return a * a;\n",
    "}"
   ]
  },
  {
   "cell_type": "code",
   "execution_count": 2,
   "id": "4f721f1b",
   "metadata": {},
   "outputs": [
    {
     "data": {
      "text/plain": [
       "121.00000"
      ]
     },
     "execution_count": 2,
     "metadata": {},
     "output_type": "execute_result"
    }
   ],
   "source": [
    "SqrNum(11)"
   ]
  },
  {
   "cell_type": "code",
   "execution_count": null,
   "id": "3011e328",
   "metadata": {},
   "outputs": [],
   "source": []
  }
 ],
 "metadata": {
  "kernelspec": {
   "display_name": "C++14",
   "language": "C++14",
   "name": "xcpp14"
  },
  "language_info": {
   "codemirror_mode": "text/x-c++src",
   "file_extension": ".cpp",
   "mimetype": "text/x-c++src",
   "name": "c++",
   "version": "14"
  }
 },
 "nbformat": 4,
 "nbformat_minor": 5
}
